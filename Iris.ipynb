{
 "cells": [
  {
   "cell_type": "code",
   "execution_count": 1,
   "id": "8949107a-4d77-4923-a6f1-4921c1be442a",
   "metadata": {},
   "outputs": [],
   "source": [
    "from sklearn.linear_model import LogisticRegression \n",
    "from sklearn import datasets\n",
    "from sklearn.preprocessing import StandardScaler"
   ]
  },
  {
   "cell_type": "code",
   "execution_count": 2,
   "id": "f43ae7d2-3cca-469c-a70c-5d8472d6675f",
   "metadata": {},
   "outputs": [],
   "source": [
    "iris = datasets.load_iris()\n",
    "x = iris.data\n",
    "y = iris.target"
   ]
  },
  {
   "cell_type": "code",
   "execution_count": 8,
   "id": "fb5d272c-463b-42cc-848f-bbb9376119d8",
   "metadata": {},
   "outputs": [],
   "source": [
    "sclaer = StandardScaler()\n",
    "x_std = sclaer.fit_transform(x)\n",
    "clf = LogisticRegression(multi_class = \"ovr\" , random_state = 0)\n",
    "model = clf.fit(x_std , y)\n",
    "n = [[4.9 , 3 , 1.4 , 0.2]]"
   ]
  },
  {
   "cell_type": "code",
   "execution_count": 6,
   "id": "9879878f-2eba-44c8-b648-cc602e0704de",
   "metadata": {},
   "outputs": [
    {
     "data": {
      "text/plain": [
       "array([2])"
      ]
     },
     "execution_count": 6,
     "metadata": {},
     "output_type": "execute_result"
    }
   ],
   "source": [
    "model.predict(n)"
   ]
  },
  {
   "cell_type": "code",
   "execution_count": 7,
   "id": "b6869a6d-fe34-4300-bb26-767c2341560a",
   "metadata": {},
   "outputs": [
    {
     "data": {
      "text/plain": [
       "array([[0.0028208 , 0.10002154, 0.89715766]])"
      ]
     },
     "execution_count": 7,
     "metadata": {},
     "output_type": "execute_result"
    }
   ],
   "source": [
    "model.predict_proba(n)"
   ]
  },
  {
   "cell_type": "code",
   "execution_count": null,
   "id": "47f4ddce-de2f-4795-a950-f753eae105cb",
   "metadata": {},
   "outputs": [],
   "source": []
  },
  {
   "cell_type": "code",
   "execution_count": null,
   "id": "76e8315d-82fa-451f-984d-68d112b0c1ec",
   "metadata": {},
   "outputs": [],
   "source": []
  }
 ],
 "metadata": {
  "kernelspec": {
   "display_name": "Python 3 (ipykernel)",
   "language": "python",
   "name": "python3"
  },
  "language_info": {
   "codemirror_mode": {
    "name": "ipython",
    "version": 3
   },
   "file_extension": ".py",
   "mimetype": "text/x-python",
   "name": "python",
   "nbconvert_exporter": "python",
   "pygments_lexer": "ipython3",
   "version": "3.12.3"
  }
 },
 "nbformat": 4,
 "nbformat_minor": 5
}
