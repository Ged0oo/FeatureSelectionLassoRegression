{
 "cells": [
  {
   "cell_type": "code",
   "execution_count": null,
   "id": "8e36f119-6a48-4327-9aef-7a6db6832dd4",
   "metadata": {},
   "outputs": [],
   "source": [
    "import pandas as pd\n",
    "import matplotlib.pyplot as plt\n",
    "from sklearn.linear_model import Ridge, Lasso\n",
    "import seaborn as sns"
   ]
  },
  {
   "cell_type": "code",
   "execution_count": null,
   "id": "caf79db8-339a-4edd-9c69-c8e9168fd764",
   "metadata": {},
   "outputs": [],
   "source": [
    "dataset = pd.read_csv(\"HousingData.csv\")\n",
    "dataset.head()\n",
    "dataset.isnull().sum()"
   ]
  },
  {
   "cell_type": "code",
   "execution_count": null,
   "id": "9b350e2f-c7ef-4309-979b-3488a9e9a053",
   "metadata": {},
   "outputs": [],
   "source": [
    "dataset['CRIM'].fillna(value=0,inplace = True)\n",
    "dataset['ZN'].fillna(value=0 ,inplace = True)\n",
    "dataset['INDUS'].fillna(value= 0,inplace = True)\n",
    "dataset['CHAS'].fillna(value= 0,inplace = True)\n",
    "dataset['AGE'].fillna(value= 0,inplace = True)\n",
    "dataset['LSTAT'].fillna(value= 0 ,inplace = True)\n",
    "dataset.isnull().sum()"
   ]
  },
  {
   "cell_type": "code",
   "execution_count": null,
   "id": "a2368523-5595-4298-bf8e-0593f89e7511",
   "metadata": {},
   "outputs": [],
   "source": [
    "df = dataset.copy()\n",
    "x = df.iloc[ : , :-1 ]\n",
    "y = df.iloc[ : ,  -1 ]\n",
    "colls = df.columns.drop('MEDV')"
   ]
  },
  {
   "cell_type": "code",
   "execution_count": null,
   "id": "8a20646a-7700-4cbc-a619-a1040e28b19e",
   "metadata": {},
   "outputs": [],
   "source": [
    "l = 0\n",
    "lasso = Lasso(alpha=1)\n",
    "lasso.fit(x,y)\n",
    "lassoCoef = lasso.coef_\n",
    "lassoInter = lasso.intercept_"
   ]
  },
  {
   "cell_type": "code",
   "execution_count": null,
   "id": "5de2380f-4319-49a3-bb6f-bcd4b7eef046",
   "metadata": {},
   "outputs": [],
   "source": [
    "plt.plot(range(len(colls)), lassoCoef)\n",
    "plt.xticks(range(len(colls)), colls, rotation = 60)\n",
    "plt.ylabel('coffecients')\n",
    "plt.show()"
   ]
  },
  {
   "cell_type": "code",
   "execution_count": null,
   "id": "9ed528ea-a4cd-435f-a02f-a25b2a1ffbea",
   "metadata": {},
   "outputs": [],
   "source": [
    "sns.pairplot(dataset)\n",
    "plt.scatter(dataset[\"RM\"], dataset[\"MEDV\"])\n",
    "plt.show()"
   ]
  },
  {
   "cell_type": "code",
   "execution_count": null,
   "id": "cb6b3747-0e93-4168-9591-d7bb690e1cb3",
   "metadata": {},
   "outputs": [],
   "source": []
  }
 ],
 "metadata": {
  "kernelspec": {
   "display_name": "Python 3 (ipykernel)",
   "language": "python",
   "name": "python3"
  },
  "language_info": {
   "codemirror_mode": {
    "name": "ipython",
    "version": 3
   },
   "file_extension": ".py",
   "mimetype": "text/x-python",
   "name": "python",
   "nbconvert_exporter": "python",
   "pygments_lexer": "ipython3",
   "version": "3.12.3"
  }
 },
 "nbformat": 4,
 "nbformat_minor": 5
}
